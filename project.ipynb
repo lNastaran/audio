{
 "cells": [
  {
   "cell_type": "markdown",
   "id": "35692416",
   "metadata": {},
   "source": [
    "Libraries"
   ]
  },
  {
   "cell_type": "code",
   "execution_count": 79,
   "id": "20043c6d",
   "metadata": {},
   "outputs": [],
   "source": [
    "import numpy as np\n",
    "import matplotlib.pyplot as plt\n",
    "from scipy.fftpack import fft,dct\n",
    "import librosa\n",
    "from scipy import signal\n",
    "import soundfile as sf\n",
    "from librosa.display import specshow\n",
    "import glob"
   ]
  },
  {
   "cell_type": "markdown",
   "id": "8e099d97",
   "metadata": {},
   "source": [
    "Importing data"
   ]
  },
  {
   "cell_type": "code",
   "execution_count": 80,
   "metadata": {},
   "outputs": [],
   "source": [
    "# # separate \n",
    "\n",
    "carTrain = glob.glob(\"cars/train/*.wav\")\n",
    "carTest = glob.glob(\"cars/test/*.wav\")\n",
    "\n",
    "tramTrain = glob.glob(\"trams/train/*.wav\")\n",
    "tramTest = glob.glob(\"trams/test/*.wav\")\n",
    "\n",
    "dataset=[]\n",
    "labels = []\n"
   ]
  },
  {
   "cell_type": "code",
   "execution_count": 81,
   "metadata": {},
   "outputs": [],
   "source": [
    "def importFiles(files, label):\n",
    "    dataset = []\n",
    "    labels = []\n",
    "    for file in files:\n",
    "        data,sr = librosa.load(file)\n",
    "        data = librosa.effects.trim(data, top_db=20, frame_length=1024, hop_length=512)[0] \n",
    "        # print(data.size)\n",
    "        # print(data.shape)# Desired length in samples\n",
    "        desired_length = sr * 5\n",
    "        # # Initialize a new array of zeros with the desired length\n",
    "        fixed_length_data = np.zeros(desired_length)\n",
    "        #  Check the length of the original data\n",
    "        original_length = len(data)\n",
    "        # # If original data is longer than desired length, truncate it\n",
    "        # # If it is shorter, pad with zeros\n",
    "        if original_length > desired_length:\n",
    "            fixed_length_data = data[:desired_length]\n",
    "        else:\n",
    "            fixed_length_data[:original_length] = data\n",
    "        # # Now use fixed_length_data as your adjusted data\n",
    "        data = fixed_length_data\n",
    "\n",
    "\n",
    "\n",
    "\n",
    "        labels.append(label)\n",
    "        dataset.append(data)\n",
    "\n",
    "    return dataset,labels"
   ]
  },
  {
   "cell_type": "code",
   "execution_count": 82,
   "metadata": {},
   "outputs": [
    {
     "name": "stderr",
     "output_type": "stream",
     "text": [
      "/tmp/ipykernel_171569/3366563929.py:5: UserWarning: PySoundFile failed. Trying audioread instead.\n",
      "  data,sr = librosa.load(file)\n",
      "/home/smitty/miniconda3/envs/audioproc/lib/python3.8/site-packages/librosa/core/audio.py:183: FutureWarning: librosa.core.audio.__audioread_load\n",
      "\tDeprecated as of librosa version 0.10.0.\n",
      "\tIt will be removed in librosa version 1.0.\n",
      "  y, sr_native = __audioread_load(path, offset, duration, dtype)\n"
     ]
    }
   ],
   "source": [
    "# # separate\n",
    "\n",
    "car_dataset, car_label  = importFiles(carTrain, 0)\n",
    "car_test_dataset, car_test_label = importFiles(carTest, 0)\n",
    "tram_dataset, tram_label = importFiles(tramTrain, 1)\n",
    "tram_test_dataset, tram_test_label = importFiles(tramTest, 1)"
   ]
  },
  {
   "cell_type": "code",
   "execution_count": 83,
   "metadata": {},
   "outputs": [],
   "source": [
    "tram_dataset_array = np.array(tram_dataset)\n",
    "car_dataset_array = np.array(car_dataset)\n",
    "tram_label_array = np.array(tram_label)\n",
    "car_label_array = np.array(car_label)\n"
   ]
  },
  {
   "cell_type": "code",
   "execution_count": 84,
   "id": "db950037",
   "metadata": {},
   "outputs": [],
   "source": [
    "dataset = np.concatenate([tram_dataset, car_dataset], axis=0)\n",
    "labels = np.concatenate([tram_label, car_label], axis=0)\n"
   ]
  },
  {
   "cell_type": "code",
   "execution_count": 85,
   "id": "e4880df8",
   "metadata": {},
   "outputs": [],
   "source": [
    "dataset_test = np.concatenate([tram_test_dataset,car_test_dataset], axis=0)\n",
    "labels_test = np.concatenate([tram_test_label, car_test_label], axis=0)\n"
   ]
  },
  {
   "cell_type": "markdown",
   "id": "9597e96a",
   "metadata": {},
   "source": [
    "Feature Extraction"
   ]
  },
  {
   "cell_type": "code",
   "execution_count": 238,
   "metadata": {},
   "outputs": [],
   "source": [
    "def padding(data, target_height, target_width):\n",
    "    h = data.shape[0]\n",
    "    w = data.shape[1]\n",
    "    \n",
    "    a = max((target_height - h) // 2,0)\n",
    "    aa = max(0,target_height - a - h)\n",
    "    \n",
    "    b = max(0,(target_width - w) // 2)\n",
    "    bb = max(target_width - b - w,0)\n",
    "    \n",
    "    return np.pad(data, pad_width=((a, aa), (b, bb)), mode='constant')"
   ]
  },
  {
   "cell_type": "code",
   "execution_count": 263,
   "id": "f78ff240",
   "metadata": {},
   "outputs": [],
   "source": [
    "fs = 44000\n",
    "f2=[]\n",
    "\n",
    "def extractFeatures(dataset, model=\"KNN\"):\n",
    "    features = []\n",
    "    max_size = 1000\n",
    "    \n",
    "    for audio in dataset:\n",
    "        mfccs = librosa.feature.mfcc(y=np.asarray(audio), sr=fs, n_mfcc=50)\n",
    "    \n",
    "        # spectral spread\n",
    "        spectral_bandwidth = librosa.feature.spectral_bandwidth(y=np.asarray(audio), sr=fs)\n",
    "\n",
    "        # spectral energy\n",
    "        spectral_centroid = librosa.feature.spectral_centroid(y=np.asarray(audio), sr=fs)\n",
    "\n",
    "        # spectral density\n",
    "        spectral_contrast = librosa.feature.spectral_contrast(y=np.asarray(audio), sr=fs)\n",
    "\n",
    "        #  rate of sign-changes in the signal\n",
    "        zerocrossing_rate = librosa.feature.zero_crossing_rate(y=np.asarray(audio))\n",
    "\n",
    "        #  frequency below which a certain percentage of the power spectrum is concentrated\n",
    "        spectral_rolloff = librosa.feature.spectral_rolloff(y=np.asarray(audio), sr=fs)\n",
    "        \n",
    "        # combined_features = np.hstack([np.mean(mfccs, axis=1), np.std(mfccs, axis=1),\n",
    "        #                                np.mean(spectral_bandwidth), np.std(spectral_bandwidth),\n",
    "        #                                np.mean(spectral_centroid), np.std(spectral_centroid),\n",
    "        #                                np.mean(spectral_contrast), np.std(spectral_contrast),\n",
    "        #                                np.mean(zerocrossing_rate), np.std(zerocrossing_rate),\n",
    "        #                                np.mean(spectral_rolloff), np.std(spectral_rolloff)])\n",
    "        \n",
    "        # combined_features_for_CNN = np.hstack([spectral_bandwidth, spectral_centroid])\n",
    "        # combined_features_for_CNN2= np.hstack([zerocrossing_rate, spectral_rolloff])\n",
    "        # combined_features2=np.vstack([combined_features_for_CNN,combined_features_for_CNN2])\n",
    "\n",
    "        if model == \"KNN\":\n",
    "            # combined features include spectral bandwidth, spectral centroid, zero-crossing rate, spectral rolloff\n",
    "            mfccs = np.reshape(mfccs, (1,-1))\n",
    "            spectral_contrast = np.reshape(spectral_contrast, (1,-1))\n",
    "            combined_features = np.hstack([spectral_bandwidth, spectral_centroid, zerocrossing_rate, spectral_rolloff, mfccs, spectral_contrast])\n",
    "            features.append(combined_features)\n",
    "        else:\n",
    "            combined_features = np.vstack([padding(spectral_bandwidth, 1, max_size),\n",
    "                                           padding(spectral_centroid, 1, max_size),\n",
    "                                           padding(zerocrossing_rate, 1, max_size), \n",
    "                                           padding(spectral_rolloff, 1, max_size),\n",
    "                                           padding(spectral_contrast, 1, max_size)])\n",
    "            for i in range(0,mfccs.shape[0]):\n",
    "                combined_features = np.append(combined_features, padding(spectral_bandwidth, 1, max_size), axis=0)\n",
    "                combined_features = np.append(combined_features, padding(spectral_centroid, 1, max_size), axis=0)\n",
    "                combined_features = np.append(combined_features, padding(zerocrossing_rate, 1, max_size), axis=0)\n",
    "                combined_features = np.append(combined_features, padding(spectral_rolloff, 1, max_size), axis=0)\n",
    "                combined_features = np.append(combined_features, padding(spectral_contrast, 1, max_size), axis=0)\n",
    "            \n",
    "                if combined_features.shape[0] > mfccs.shape[0]:\n",
    "                    difference = combined_features.shape[0] - mfccs.shape[0]\n",
    "                    combined_features = combined_features[:-difference, :]\n",
    "                    break\n",
    "                \n",
    "                \n",
    "            combined_features = np.dstack((combined_features, padding(mfccs, mfccs.shape[0], max_size)))\n",
    "            \n",
    "            features.append(combined_features)\n",
    "\n",
    "    features = np.array(features)\n",
    "    return features"
   ]
  },
  {
   "cell_type": "code",
   "execution_count": 230,
   "id": "06f3f159",
   "metadata": {},
   "outputs": [],
   "source": [
    "features = extractFeatures(dataset)"
   ]
  },
  {
   "cell_type": "code",
   "execution_count": 264,
   "metadata": {},
   "outputs": [],
   "source": [
    "features2 =extractFeatures(dataset,\"CNN\")"
   ]
  },
  {
   "cell_type": "code",
   "execution_count": 150,
   "metadata": {},
   "outputs": [
    {
     "data": {
      "text/plain": [
       "146"
      ]
     },
     "execution_count": 150,
     "metadata": {},
     "output_type": "execute_result"
    }
   ],
   "source": [
    "len(features)"
   ]
  },
  {
   "cell_type": "code",
   "execution_count": 136,
   "id": "4d269ab1",
   "metadata": {},
   "outputs": [],
   "source": [
    "features_test=extractFeatures(dataset_test,\"KNN\")\n",
    "# features_test2=extractFeatures(dataset_test,\"CNN\")"
   ]
  },
  {
   "cell_type": "code",
   "execution_count": 174,
   "metadata": {},
   "outputs": [],
   "source": [
    "# fs = 44000\n",
    "# features=[]\n",
    "# features2=[]\n",
    "# f2=[]\n",
    "\n",
    "# for audio in dataset:\n",
    "#     mfcc = librosa.feature.mfcc(y=np.asarray(audio), sr=fs, n_mfcc=50)    \n",
    "#     # spectral spread\n",
    "#     spectral_bandwidth = librosa.feature.spectral_bandwidth(y=np.asarray(audio), sr=fs)\n",
    "\n",
    "#     # spectral energy\n",
    "#     spectral_centroid = librosa.feature.spectral_centroid(y=np.asarray(audio), sr=fs)\n",
    "\n",
    "#     # spectral density\n",
    "#     spectral_contrast = librosa.feature.spectral_contrast(y=np.asarray(audio), sr=fs)\n",
    "\n",
    "#     #  rate of sign-changes in the signal\n",
    "#     zerocrossing_rate = librosa.feature.zero_crossing_rate(y=np.asarray(audio))\n",
    "\n",
    "#     #  frequency below which a certain percentage of the power spectrum is concentrated\n",
    "#     spectral_rolloff = librosa.feature.spectral_rolloff(y=np.asarray(audio), sr=fs)\n",
    "\n",
    "#     combined_features = np.hstack([np.mean(mfcc, axis=1), np.std(mfcc, axis=1),\n",
    "#                                    np.mean(spectral_bandwidth), np.std(spectral_bandwidth),\n",
    "#                                    np.mean(spectral_centroid), np.std(spectral_centroid),\n",
    "#                                    np.mean(spectral_contrast), np.std(spectral_contrast),\n",
    "#                                    np.mean(zerocrossing_rate), np.std(zerocrossing_rate),\n",
    "#                                    np.mean(spectral_rolloff), np.std(spectral_rolloff)])\n",
    "    \n",
    "#     combined = np.hstack([spectral_bandwidth, spectral_centroid])\n",
    "#     combo= np.hstack([zerocrossing_rate, spectral_rolloff])\n",
    "#     co=np.vstack([combined,combo])\n",
    "#     f2.append(co)\n",
    "\n",
    "#     # #combined = np.concatenate(mfcc,spectral_bandwidth, spectral_centroid, spectral_contrast, zerocrossing_rate, spectral_rolloff)\n",
    "#     # x=spectral_bandwidth.shape\n",
    "\n",
    "#     combined_features_2d = combined_features.reshape(1, -1)\n",
    "\n",
    "#     # Append combined features as 2D array\n",
    "#     features.append(combined_features_2d)\n",
    "#     #features2.append(f2)\n",
    "\n",
    "#     #features.append(combined_features)\n",
    "#     features2.append(mfcc)\n"
   ]
  },
  {
   "cell_type": "code",
   "execution_count": 224,
   "id": "705f2159",
   "metadata": {},
   "outputs": [],
   "source": [
    "features = np.asarray(features)\n",
    "# features2= np.asarray(features2)"
   ]
  },
  {
   "cell_type": "code",
   "execution_count": 138,
   "id": "a09b0bb7",
   "metadata": {},
   "outputs": [],
   "source": [
    "features_test= np.asarray(features_test)\n",
    "# features_test2= np.asarray(features_test2)"
   ]
  },
  {
   "cell_type": "code",
   "execution_count": 139,
   "id": "251f99cf",
   "metadata": {},
   "outputs": [
    {
     "name": "stdout",
     "output_type": "stream",
     "text": [
      "(146, 1, 864)\n"
     ]
    }
   ],
   "source": [
    "print(features.shape)\n",
    "# print(features2.shape)"
   ]
  },
  {
   "cell_type": "code",
   "execution_count": 140,
   "metadata": {},
   "outputs": [
    {
     "name": "stdout",
     "output_type": "stream",
     "text": [
      "(146, 864)\n"
     ]
    }
   ],
   "source": [
    "features_knn = features.reshape((146,-1))\n",
    "print(features_knn.shape)"
   ]
  },
  {
   "cell_type": "markdown",
   "id": "7af3a66b",
   "metadata": {},
   "source": [
    "Nearest Neighbour"
   ]
  },
  {
   "cell_type": "code",
   "execution_count": 231,
   "metadata": {},
   "outputs": [],
   "source": [
    "from sklearn.neighbors import KNeighborsClassifier\n",
    "from sklearn.model_selection import train_test_split\n",
    "from sklearn.metrics import accuracy_score"
   ]
  },
  {
   "cell_type": "code",
   "execution_count": 233,
   "metadata": {},
   "outputs": [
    {
     "name": "stdout",
     "output_type": "stream",
     "text": [
      "0.8461538461538461\n",
      "0.6111111111111112\n",
      "0.7\n"
     ]
    }
   ],
   "source": [
    "# # all\n",
    "from sklearn.metrics import accuracy_score, precision_score, recall_score\n",
    "\n",
    "# change is needed here: \n",
    "X_train, X_test, y_train, y_test = train_test_split(features, labels, test_size=0.2, random_state=42)\n",
    "\n",
    "knn = KNeighborsClassifier(n_neighbors=5)\n",
    "knn.fit(X_train, y_train)\n",
    "\n",
    "y_pred = knn.predict(X_test)\n",
    "\n",
    "precision = precision_score(y_test, y_pred)\n",
    "recall = recall_score(y_test, y_pred)\n",
    "accuracy = accuracy_score(y_test, y_pred)\n",
    "\n",
    "print(precision)\n",
    "print(recall)\n",
    "print(accuracy)\n"
   ]
  },
  {
   "cell_type": "markdown",
   "id": "03402f72",
   "metadata": {},
   "source": [
    "CNN"
   ]
  },
  {
   "cell_type": "code",
   "execution_count": 267,
   "id": "a3df585f",
   "metadata": {},
   "outputs": [],
   "source": [
    "from tensorflow.keras.models import Sequential\n",
    "from tensorflow.keras.layers import Dense, Conv2D, MaxPooling2D, Flatten, Dropout"
   ]
  },
  {
   "cell_type": "code",
   "execution_count": 269,
   "id": "c2195ca8",
   "metadata": {},
   "outputs": [
    {
     "name": "stdout",
     "output_type": "stream",
     "text": [
      "Model: \"sequential_12\"\n",
      "_________________________________________________________________\n",
      " Layer (type)                Output Shape              Param #   \n",
      "=================================================================\n",
      " conv2d_15 (Conv2D)          (None, 49, 999, 4)        36        \n",
      "                                                                 \n",
      " flatten_7 (Flatten)         (None, 195804)            0         \n",
      "                                                                 \n",
      " dense_22 (Dense)            (None, 16)                3132880   \n",
      "                                                                 \n",
      " dense_23 (Dense)            (None, 8)                 136       \n",
      "                                                                 \n",
      " dense_24 (Dense)            (None, 1)                 9         \n",
      "                                                                 \n",
      "=================================================================\n",
      "Total params: 3133061 (11.95 MB)\n",
      "Trainable params: 3133061 (11.95 MB)\n",
      "Non-trainable params: 0 (0.00 Byte)\n",
      "_________________________________________________________________\n"
     ]
    }
   ],
   "source": [
    "## original model\n",
    "input_shape = (2, 432, 1)\n",
    "# input_shape = (50,1000,1)\n",
    "\n",
    "model = Sequential()\n",
    "model.add(Conv2D(4, kernel_size=(2,2), activation='relu', input_shape=input_shape))\n",
    "#model.add(Conv2D(16, kernel_size=(3, 3), activation='relu', input_shape=input_shape))\n",
    "model.add(Flatten())\n",
    "model.add(Dense(16, activation='relu'))\n",
    "model.add(Dense(8, activation='relu'))\n",
    "model.add(Dense(1, activation='sigmoid'))\n",
    "model.compile(optimizer='adam', loss='binary_crossentropy', metrics=['accuracy'])\n",
    "\n",
    "model.summary()"
   ]
  },
  {
   "cell_type": "code",
   "execution_count": 275,
   "metadata": {},
   "outputs": [
    {
     "name": "stdout",
     "output_type": "stream",
     "text": [
      "Model: \"sequential_13\"\n",
      "_________________________________________________________________\n",
      " Layer (type)                Output Shape              Param #   \n",
      "=================================================================\n",
      " conv2d_16 (Conv2D)          (None, 48, 998, 32)       608       \n",
      "                                                                 \n",
      " max_pooling2d_2 (MaxPoolin  (None, 24, 499, 32)       0         \n",
      " g2D)                                                            \n",
      "                                                                 \n",
      " dropout_2 (Dropout)         (None, 24, 499, 32)       0         \n",
      "                                                                 \n",
      " conv2d_17 (Conv2D)          (None, 22, 497, 64)       18496     \n",
      "                                                                 \n",
      " max_pooling2d_3 (MaxPoolin  (None, 11, 248, 64)       0         \n",
      " g2D)                                                            \n",
      "                                                                 \n",
      " dropout_3 (Dropout)         (None, 11, 248, 64)       0         \n",
      "                                                                 \n",
      " conv2d_18 (Conv2D)          (None, 9, 246, 32)        18464     \n",
      "                                                                 \n",
      " flatten_8 (Flatten)         (None, 70848)             0         \n",
      "                                                                 \n",
      " dense_25 (Dense)            (None, 64)                4534336   \n",
      "                                                                 \n",
      " dense_26 (Dense)            (None, 32)                2080      \n",
      "                                                                 \n",
      " dense_27 (Dense)            (None, 24)                792       \n",
      "                                                                 \n",
      " dense_28 (Dense)            (None, 1)                 25        \n",
      "                                                                 \n",
      "=================================================================\n",
      "Total params: 4574801 (17.45 MB)\n",
      "Trainable params: 4574801 (17.45 MB)\n",
      "Non-trainable params: 0 (0.00 Byte)\n",
      "_________________________________________________________________\n"
     ]
    }
   ],
   "source": [
    "## alternative model\n",
    "input_shape = (50,1000,2)\n",
    "\n",
    "model = Sequential()\n",
    "model.add(Conv2D(32, kernel_size=(3,3), activation='relu', input_shape=input_shape))\n",
    "model.add(MaxPooling2D((2,2)))\n",
    "model.add(Dropout(0.2))\n",
    "model.add(Conv2D(64, kernel_size=(3,3), activation='relu', input_shape=input_shape))\n",
    "model.add(MaxPooling2D((2,2)))\n",
    "model.add(Dropout(0.2))\n",
    "\n",
    "model.add(Conv2D(32, kernel_size=(3,3), activation='relu', input_shape=input_shape))\n",
    "model.add(Flatten())\n",
    "model.add(Dense(64, activation='relu'))\n",
    "model.add(Dense(32, activation='relu'))\n",
    "model.add(Dense(24, activation='relu'))\n",
    "model.add(Dense(1, activation='sigmoid'))\n",
    "model.compile(optimizer='adam', loss='sparse_categorical_crossentropy', metrics=['accuracy'])\n",
    "\n",
    "model.summary()"
   ]
  },
  {
   "cell_type": "code",
   "execution_count": 276,
   "metadata": {},
   "outputs": [],
   "source": [
    "X_train, X_test, y_train, y_test = train_test_split(features2, labels, test_size=0.2, random_state=42)"
   ]
  },
  {
   "cell_type": "code",
   "execution_count": 278,
   "id": "89feff4c",
   "metadata": {},
   "outputs": [
    {
     "name": "stdout",
     "output_type": "stream",
     "text": [
      "Epoch 1/20\n"
     ]
    },
    {
     "name": "stderr",
     "output_type": "stream",
     "text": [
      "2023-12-15 17:42:06.025864: W tensorflow/core/framework/op_kernel.cc:1828] OP_REQUIRES failed at sparse_xent_op.cc:103 : INVALID_ARGUMENT: Received a label value of 1 which is outside the valid range of [0, 1).  Label values: 0 0 0 0 1 0 1 1 1 1 1 0 1 0 1 0 1 1 0 0 1 1 0 0 1 1 0 1 1 0 1 1\n"
     ]
    },
    {
     "ename": "InvalidArgumentError",
     "evalue": "Graph execution error:\n\nDetected at node 'sparse_categorical_crossentropy/SparseSoftmaxCrossEntropyWithLogits/SparseSoftmaxCrossEntropyWithLogits' defined at (most recent call last):\n    File \"/home/smitty/miniconda3/envs/audioproc/lib/python3.8/runpy.py\", line 194, in _run_module_as_main\n      return _run_code(code, main_globals, None,\n    File \"/home/smitty/miniconda3/envs/audioproc/lib/python3.8/runpy.py\", line 87, in _run_code\n      exec(code, run_globals)\n    File \"/home/smitty/miniconda3/envs/audioproc/lib/python3.8/site-packages/ipykernel_launcher.py\", line 17, in <module>\n      app.launch_new_instance()\n    File \"/home/smitty/miniconda3/envs/audioproc/lib/python3.8/site-packages/traitlets/config/application.py\", line 1053, in launch_instance\n      app.start()\n    File \"/home/smitty/miniconda3/envs/audioproc/lib/python3.8/site-packages/ipykernel/kernelapp.py\", line 737, in start\n      self.io_loop.start()\n    File \"/home/smitty/miniconda3/envs/audioproc/lib/python3.8/site-packages/tornado/platform/asyncio.py\", line 195, in start\n      self.asyncio_loop.run_forever()\n    File \"/home/smitty/miniconda3/envs/audioproc/lib/python3.8/asyncio/base_events.py\", line 570, in run_forever\n      self._run_once()\n    File \"/home/smitty/miniconda3/envs/audioproc/lib/python3.8/asyncio/base_events.py\", line 1859, in _run_once\n      handle._run()\n    File \"/home/smitty/miniconda3/envs/audioproc/lib/python3.8/asyncio/events.py\", line 81, in _run\n      self._context.run(self._callback, *self._args)\n    File \"/home/smitty/miniconda3/envs/audioproc/lib/python3.8/site-packages/ipykernel/kernelbase.py\", line 524, in dispatch_queue\n      await self.process_one()\n    File \"/home/smitty/miniconda3/envs/audioproc/lib/python3.8/site-packages/ipykernel/kernelbase.py\", line 513, in process_one\n      await dispatch(*args)\n    File \"/home/smitty/miniconda3/envs/audioproc/lib/python3.8/site-packages/ipykernel/kernelbase.py\", line 418, in dispatch_shell\n      await result\n    File \"/home/smitty/miniconda3/envs/audioproc/lib/python3.8/site-packages/ipykernel/kernelbase.py\", line 758, in execute_request\n      reply_content = await reply_content\n    File \"/home/smitty/miniconda3/envs/audioproc/lib/python3.8/site-packages/ipykernel/ipkernel.py\", line 426, in do_execute\n      res = shell.run_cell(\n    File \"/home/smitty/miniconda3/envs/audioproc/lib/python3.8/site-packages/ipykernel/zmqshell.py\", line 549, in run_cell\n      return super().run_cell(*args, **kwargs)\n    File \"/home/smitty/miniconda3/envs/audioproc/lib/python3.8/site-packages/IPython/core/interactiveshell.py\", line 3006, in run_cell\n      result = self._run_cell(\n    File \"/home/smitty/miniconda3/envs/audioproc/lib/python3.8/site-packages/IPython/core/interactiveshell.py\", line 3061, in _run_cell\n      result = runner(coro)\n    File \"/home/smitty/miniconda3/envs/audioproc/lib/python3.8/site-packages/IPython/core/async_helpers.py\", line 129, in _pseudo_sync_runner\n      coro.send(None)\n    File \"/home/smitty/miniconda3/envs/audioproc/lib/python3.8/site-packages/IPython/core/interactiveshell.py\", line 3266, in run_cell_async\n      has_raised = await self.run_ast_nodes(code_ast.body, cell_name,\n    File \"/home/smitty/miniconda3/envs/audioproc/lib/python3.8/site-packages/IPython/core/interactiveshell.py\", line 3445, in run_ast_nodes\n      if await self.run_code(code, result, async_=asy):\n    File \"/home/smitty/miniconda3/envs/audioproc/lib/python3.8/site-packages/IPython/core/interactiveshell.py\", line 3505, in run_code\n      exec(code_obj, self.user_global_ns, self.user_ns)\n    File \"/tmp/ipykernel_171569/2161489901.py\", line 1, in <module>\n      history = model.fit(x=X_train,y=y_train,epochs=10)\n    File \"/home/smitty/miniconda3/envs/audioproc/lib/python3.8/site-packages/keras/src/utils/traceback_utils.py\", line 65, in error_handler\n      return fn(*args, **kwargs)\n    File \"/home/smitty/miniconda3/envs/audioproc/lib/python3.8/site-packages/keras/src/engine/training.py\", line 1742, in fit\n      tmp_logs = self.train_function(iterator)\n    File \"/home/smitty/miniconda3/envs/audioproc/lib/python3.8/site-packages/keras/src/engine/training.py\", line 1338, in train_function\n      return step_function(self, iterator)\n    File \"/home/smitty/miniconda3/envs/audioproc/lib/python3.8/site-packages/keras/src/engine/training.py\", line 1322, in step_function\n      outputs = model.distribute_strategy.run(run_step, args=(data,))\n    File \"/home/smitty/miniconda3/envs/audioproc/lib/python3.8/site-packages/keras/src/engine/training.py\", line 1303, in run_step\n      outputs = model.train_step(data)\n    File \"/home/smitty/miniconda3/envs/audioproc/lib/python3.8/site-packages/keras/src/engine/training.py\", line 1081, in train_step\n      loss = self.compute_loss(x, y, y_pred, sample_weight)\n    File \"/home/smitty/miniconda3/envs/audioproc/lib/python3.8/site-packages/keras/src/engine/training.py\", line 1139, in compute_loss\n      return self.compiled_loss(\n    File \"/home/smitty/miniconda3/envs/audioproc/lib/python3.8/site-packages/keras/src/engine/compile_utils.py\", line 265, in __call__\n      loss_value = loss_obj(y_t, y_p, sample_weight=sw)\n    File \"/home/smitty/miniconda3/envs/audioproc/lib/python3.8/site-packages/keras/src/losses.py\", line 142, in __call__\n      losses = call_fn(y_true, y_pred)\n    File \"/home/smitty/miniconda3/envs/audioproc/lib/python3.8/site-packages/keras/src/losses.py\", line 268, in call\n      return ag_fn(y_true, y_pred, **self._fn_kwargs)\n    File \"/home/smitty/miniconda3/envs/audioproc/lib/python3.8/site-packages/keras/src/losses.py\", line 2354, in sparse_categorical_crossentropy\n      return backend.sparse_categorical_crossentropy(\n    File \"/home/smitty/miniconda3/envs/audioproc/lib/python3.8/site-packages/keras/src/backend.py\", line 5762, in sparse_categorical_crossentropy\n      res = tf.nn.sparse_softmax_cross_entropy_with_logits(\nNode: 'sparse_categorical_crossentropy/SparseSoftmaxCrossEntropyWithLogits/SparseSoftmaxCrossEntropyWithLogits'\nReceived a label value of 1 which is outside the valid range of [0, 1).  Label values: 0 0 0 0 1 0 1 1 1 1 1 0 1 0 1 0 1 1 0 0 1 1 0 0 1 1 0 1 1 0 1 1\n\t [[{{node sparse_categorical_crossentropy/SparseSoftmaxCrossEntropyWithLogits/SparseSoftmaxCrossEntropyWithLogits}}]] [Op:__inference_train_function_11887]",
     "output_type": "error",
     "traceback": [
      "\u001b[0;31m---------------------------------------------------------------------------\u001b[0m",
      "\u001b[0;31mInvalidArgumentError\u001b[0m                      Traceback (most recent call last)",
      "\u001b[1;32m/home/smitty/Dropbox/study/intro to audio proc 2/audio/project.ipynb Cell 30\u001b[0m line \u001b[0;36m1\n\u001b[0;32m----> <a href='vscode-notebook-cell:/home/smitty/Dropbox/study/intro%20to%20audio%20proc%202/audio/project.ipynb#Y101sZmlsZQ%3D%3D?line=0'>1</a>\u001b[0m history \u001b[39m=\u001b[39m model\u001b[39m.\u001b[39;49mfit(x\u001b[39m=\u001b[39;49mX_train,y\u001b[39m=\u001b[39;49my_train,epochs\u001b[39m=\u001b[39;49m\u001b[39m20\u001b[39;49m)\n",
      "File \u001b[0;32m~/miniconda3/envs/audioproc/lib/python3.8/site-packages/keras/src/utils/traceback_utils.py:70\u001b[0m, in \u001b[0;36mfilter_traceback.<locals>.error_handler\u001b[0;34m(*args, **kwargs)\u001b[0m\n\u001b[1;32m     67\u001b[0m     filtered_tb \u001b[39m=\u001b[39m _process_traceback_frames(e\u001b[39m.\u001b[39m__traceback__)\n\u001b[1;32m     68\u001b[0m     \u001b[39m# To get the full stack trace, call:\u001b[39;00m\n\u001b[1;32m     69\u001b[0m     \u001b[39m# `tf.debugging.disable_traceback_filtering()`\u001b[39;00m\n\u001b[0;32m---> 70\u001b[0m     \u001b[39mraise\u001b[39;00m e\u001b[39m.\u001b[39mwith_traceback(filtered_tb) \u001b[39mfrom\u001b[39;00m \u001b[39mNone\u001b[39;00m\n\u001b[1;32m     71\u001b[0m \u001b[39mfinally\u001b[39;00m:\n\u001b[1;32m     72\u001b[0m     \u001b[39mdel\u001b[39;00m filtered_tb\n",
      "File \u001b[0;32m~/miniconda3/envs/audioproc/lib/python3.8/site-packages/tensorflow/python/eager/execute.py:53\u001b[0m, in \u001b[0;36mquick_execute\u001b[0;34m(op_name, num_outputs, inputs, attrs, ctx, name)\u001b[0m\n\u001b[1;32m     51\u001b[0m \u001b[39mtry\u001b[39;00m:\n\u001b[1;32m     52\u001b[0m   ctx\u001b[39m.\u001b[39mensure_initialized()\n\u001b[0;32m---> 53\u001b[0m   tensors \u001b[39m=\u001b[39m pywrap_tfe\u001b[39m.\u001b[39mTFE_Py_Execute(ctx\u001b[39m.\u001b[39m_handle, device_name, op_name,\n\u001b[1;32m     54\u001b[0m                                       inputs, attrs, num_outputs)\n\u001b[1;32m     55\u001b[0m \u001b[39mexcept\u001b[39;00m core\u001b[39m.\u001b[39m_NotOkStatusException \u001b[39mas\u001b[39;00m e:\n\u001b[1;32m     56\u001b[0m   \u001b[39mif\u001b[39;00m name \u001b[39mis\u001b[39;00m \u001b[39mnot\u001b[39;00m \u001b[39mNone\u001b[39;00m:\n",
      "\u001b[0;31mInvalidArgumentError\u001b[0m: Graph execution error:\n\nDetected at node 'sparse_categorical_crossentropy/SparseSoftmaxCrossEntropyWithLogits/SparseSoftmaxCrossEntropyWithLogits' defined at (most recent call last):\n    File \"/home/smitty/miniconda3/envs/audioproc/lib/python3.8/runpy.py\", line 194, in _run_module_as_main\n      return _run_code(code, main_globals, None,\n    File \"/home/smitty/miniconda3/envs/audioproc/lib/python3.8/runpy.py\", line 87, in _run_code\n      exec(code, run_globals)\n    File \"/home/smitty/miniconda3/envs/audioproc/lib/python3.8/site-packages/ipykernel_launcher.py\", line 17, in <module>\n      app.launch_new_instance()\n    File \"/home/smitty/miniconda3/envs/audioproc/lib/python3.8/site-packages/traitlets/config/application.py\", line 1053, in launch_instance\n      app.start()\n    File \"/home/smitty/miniconda3/envs/audioproc/lib/python3.8/site-packages/ipykernel/kernelapp.py\", line 737, in start\n      self.io_loop.start()\n    File \"/home/smitty/miniconda3/envs/audioproc/lib/python3.8/site-packages/tornado/platform/asyncio.py\", line 195, in start\n      self.asyncio_loop.run_forever()\n    File \"/home/smitty/miniconda3/envs/audioproc/lib/python3.8/asyncio/base_events.py\", line 570, in run_forever\n      self._run_once()\n    File \"/home/smitty/miniconda3/envs/audioproc/lib/python3.8/asyncio/base_events.py\", line 1859, in _run_once\n      handle._run()\n    File \"/home/smitty/miniconda3/envs/audioproc/lib/python3.8/asyncio/events.py\", line 81, in _run\n      self._context.run(self._callback, *self._args)\n    File \"/home/smitty/miniconda3/envs/audioproc/lib/python3.8/site-packages/ipykernel/kernelbase.py\", line 524, in dispatch_queue\n      await self.process_one()\n    File \"/home/smitty/miniconda3/envs/audioproc/lib/python3.8/site-packages/ipykernel/kernelbase.py\", line 513, in process_one\n      await dispatch(*args)\n    File \"/home/smitty/miniconda3/envs/audioproc/lib/python3.8/site-packages/ipykernel/kernelbase.py\", line 418, in dispatch_shell\n      await result\n    File \"/home/smitty/miniconda3/envs/audioproc/lib/python3.8/site-packages/ipykernel/kernelbase.py\", line 758, in execute_request\n      reply_content = await reply_content\n    File \"/home/smitty/miniconda3/envs/audioproc/lib/python3.8/site-packages/ipykernel/ipkernel.py\", line 426, in do_execute\n      res = shell.run_cell(\n    File \"/home/smitty/miniconda3/envs/audioproc/lib/python3.8/site-packages/ipykernel/zmqshell.py\", line 549, in run_cell\n      return super().run_cell(*args, **kwargs)\n    File \"/home/smitty/miniconda3/envs/audioproc/lib/python3.8/site-packages/IPython/core/interactiveshell.py\", line 3006, in run_cell\n      result = self._run_cell(\n    File \"/home/smitty/miniconda3/envs/audioproc/lib/python3.8/site-packages/IPython/core/interactiveshell.py\", line 3061, in _run_cell\n      result = runner(coro)\n    File \"/home/smitty/miniconda3/envs/audioproc/lib/python3.8/site-packages/IPython/core/async_helpers.py\", line 129, in _pseudo_sync_runner\n      coro.send(None)\n    File \"/home/smitty/miniconda3/envs/audioproc/lib/python3.8/site-packages/IPython/core/interactiveshell.py\", line 3266, in run_cell_async\n      has_raised = await self.run_ast_nodes(code_ast.body, cell_name,\n    File \"/home/smitty/miniconda3/envs/audioproc/lib/python3.8/site-packages/IPython/core/interactiveshell.py\", line 3445, in run_ast_nodes\n      if await self.run_code(code, result, async_=asy):\n    File \"/home/smitty/miniconda3/envs/audioproc/lib/python3.8/site-packages/IPython/core/interactiveshell.py\", line 3505, in run_code\n      exec(code_obj, self.user_global_ns, self.user_ns)\n    File \"/tmp/ipykernel_171569/2161489901.py\", line 1, in <module>\n      history = model.fit(x=X_train,y=y_train,epochs=10)\n    File \"/home/smitty/miniconda3/envs/audioproc/lib/python3.8/site-packages/keras/src/utils/traceback_utils.py\", line 65, in error_handler\n      return fn(*args, **kwargs)\n    File \"/home/smitty/miniconda3/envs/audioproc/lib/python3.8/site-packages/keras/src/engine/training.py\", line 1742, in fit\n      tmp_logs = self.train_function(iterator)\n    File \"/home/smitty/miniconda3/envs/audioproc/lib/python3.8/site-packages/keras/src/engine/training.py\", line 1338, in train_function\n      return step_function(self, iterator)\n    File \"/home/smitty/miniconda3/envs/audioproc/lib/python3.8/site-packages/keras/src/engine/training.py\", line 1322, in step_function\n      outputs = model.distribute_strategy.run(run_step, args=(data,))\n    File \"/home/smitty/miniconda3/envs/audioproc/lib/python3.8/site-packages/keras/src/engine/training.py\", line 1303, in run_step\n      outputs = model.train_step(data)\n    File \"/home/smitty/miniconda3/envs/audioproc/lib/python3.8/site-packages/keras/src/engine/training.py\", line 1081, in train_step\n      loss = self.compute_loss(x, y, y_pred, sample_weight)\n    File \"/home/smitty/miniconda3/envs/audioproc/lib/python3.8/site-packages/keras/src/engine/training.py\", line 1139, in compute_loss\n      return self.compiled_loss(\n    File \"/home/smitty/miniconda3/envs/audioproc/lib/python3.8/site-packages/keras/src/engine/compile_utils.py\", line 265, in __call__\n      loss_value = loss_obj(y_t, y_p, sample_weight=sw)\n    File \"/home/smitty/miniconda3/envs/audioproc/lib/python3.8/site-packages/keras/src/losses.py\", line 142, in __call__\n      losses = call_fn(y_true, y_pred)\n    File \"/home/smitty/miniconda3/envs/audioproc/lib/python3.8/site-packages/keras/src/losses.py\", line 268, in call\n      return ag_fn(y_true, y_pred, **self._fn_kwargs)\n    File \"/home/smitty/miniconda3/envs/audioproc/lib/python3.8/site-packages/keras/src/losses.py\", line 2354, in sparse_categorical_crossentropy\n      return backend.sparse_categorical_crossentropy(\n    File \"/home/smitty/miniconda3/envs/audioproc/lib/python3.8/site-packages/keras/src/backend.py\", line 5762, in sparse_categorical_crossentropy\n      res = tf.nn.sparse_softmax_cross_entropy_with_logits(\nNode: 'sparse_categorical_crossentropy/SparseSoftmaxCrossEntropyWithLogits/SparseSoftmaxCrossEntropyWithLogits'\nReceived a label value of 1 which is outside the valid range of [0, 1).  Label values: 0 0 0 0 1 0 1 1 1 1 1 0 1 0 1 0 1 1 0 0 1 1 0 0 1 1 0 1 1 0 1 1\n\t [[{{node sparse_categorical_crossentropy/SparseSoftmaxCrossEntropyWithLogits/SparseSoftmaxCrossEntropyWithLogits}}]] [Op:__inference_train_function_11887]"
     ]
    }
   ],
   "source": [
    "history = model.fit(x=X_train,y=y_train,epochs=20)"
   ]
  },
  {
   "cell_type": "code",
   "execution_count": 109,
   "id": "c3e8a020",
   "metadata": {},
   "outputs": [
    {
     "name": "stdout",
     "output_type": "stream",
     "text": [
      "2/2 [==============================] - 0s 18ms/step\n"
     ]
    }
   ],
   "source": [
    "output= model.predict(features_test)"
   ]
  },
  {
   "cell_type": "code",
   "execution_count": 110,
   "id": "7776344a",
   "metadata": {},
   "outputs": [],
   "source": [
    "from sklearn.metrics import accuracy_score, precision_score, recall_score\n",
    "predictions = [1 if x > 0.5 else 0 for x in output]\n",
    "\n",
    "accuracy2 = accuracy_score(labels_test, predictions)\n",
    "precision2 = precision_score(labels_test, predictions)\n",
    "recall2 = recall_score(labels_test, predictions)\n"
   ]
  },
  {
   "cell_type": "markdown",
   "id": "9759d590",
   "metadata": {},
   "source": [
    "Results"
   ]
  },
  {
   "cell_type": "code",
   "execution_count": 121,
   "id": "0936b1b5",
   "metadata": {},
   "outputs": [
    {
     "name": "stdout",
     "output_type": "stream",
     "text": [
      "Nearest Neighbour:\n",
      "Precision: 0.8461538461538461\n",
      "Recall: 0.6111111111111112\n",
      "CNN:\n",
      "Accuracy: 0.4444444444444444\n",
      "Precision: 0.4444444444444444\n",
      "Recall: 1.0\n"
     ]
    }
   ],
   "source": [
    "print(\"Nearest Neighbour:\")\n",
    "print(\"Precision:\", precision)\n",
    "print(\"Recall:\", recall)\n",
    "\n",
    "print(\"CNN:\")\n",
    "print(\"Accuracy:\", accuracy2)\n",
    "print(\"Precision:\", precision2)\n",
    "print(\"Recall:\", recall2)"
   ]
  },
  {
   "cell_type": "markdown",
   "metadata": {},
   "source": [
    "### Feature analysis"
   ]
  },
  {
   "cell_type": "markdown",
   "metadata": {},
   "source": [
    "Spectral Bandwidth"
   ]
  },
  {
   "cell_type": "code",
   "execution_count": 74,
   "metadata": {},
   "outputs": [],
   "source": [
    "def extractIndividualFeatures(dataset):\n",
    "    mfcc_feat = []\n",
    "    spectral_bandwidth_feat = [] \n",
    "    spectral_centroid_feat = []\n",
    "    spectral_contrast_feat = []\n",
    "    zerocrossing_rate_feat = []\n",
    "    spectral_rolloff_feat = []\n",
    "\n",
    "    for audio in dataset:\n",
    "        mfccs = librosa.feature.mfcc(y=np.asarray(audio), sr=fs, n_mfcc=50, n_fft = 512)\n",
    "        mfcc_feat.append(mfccs)\n",
    "        \n",
    "        # spectral spread\n",
    "        spectral_bandwidth = librosa.feature.spectral_bandwidth(y=np.asarray(audio), sr=fs)\n",
    "\n",
    "        # spectral energy\n",
    "        spectral_centroid = librosa.feature.spectral_centroid(y=np.asarray(audio), sr=fs)\n",
    "\n",
    "        # spectral density\n",
    "        spectral_contrast = librosa.feature.spectral_contrast(y=np.asarray(audio), sr=fs)\n",
    "        spectral_contrast_feat.append(spectral_contrast)\n",
    "\n",
    "        #  rate of sign-changes in the signal\n",
    "        zerocrossing_rate = librosa.feature.zero_crossing_rate(y=np.asarray(audio))\n",
    "\n",
    "        #  frequency below which a certain percentage of the power spectrum is concentrated\n",
    "        spectral_rolloff = librosa.feature.spectral_rolloff(y=np.asarray(audio), sr=fs)\n",
    "\n",
    "        spectral_bandwidth_feat.append(spectral_bandwidth)\n",
    "        spectral_centroid_feat.append(spectral_centroid)\n",
    "        zerocrossing_rate_feat.append(zerocrossing_rate)\n",
    "        spectral_rolloff_feat.append(spectral_rolloff)\n",
    "\n",
    "    # for audio in dataset:\n",
    "    #     mfccs = librosa.feature.mfcc(y=np.asarray(audio), sr=fs, n_mfcc=50)\n",
    "    \n",
    "    #     # spectral spread\n",
    "    #     spectral_bandwidth = librosa.feature.spectral_bandwidth(y=np.asarray(audio), sr=fs)\n",
    "\n",
    "    #     # spectral energy\n",
    "    #     spectral_centroid = librosa.feature.spectral_centroid(y=np.asarray(audio), sr=fs)\n",
    "\n",
    "    #     # spectral density\n",
    "    #     spectral_contrast = librosa.feature.spectral_contrast(y=np.asarray(audio), sr=fs)\n",
    "\n",
    "    #     #  rate of sign-changes in the signal\n",
    "    #     zerocrossing_rate = librosa.feature.zero_crossing_rate(y=np.asarray(audio))\n",
    "\n",
    "    #     #  frequency below which a certain percentage of the power spectrum is concentrated\n",
    "    #     spectral_rolloff = librosa.feature.spectral_rolloff(y=np.asarray(audio), sr=fs)\n",
    "\n",
    "    #     mfcc_feat.append(mfccs)\n",
    "    #     spectral_bandwidth_feat.append(spectral_bandwidth)\n",
    "    #     spectral_centroid_feat.append(spectral_centroid)\n",
    "    #     spectral_contrast_feat.append(spectral_contrast)\n",
    "    #     zerocrossing_rate_feat.append(zerocrossing_rate)\n",
    "    #     spectral_rolloff_feat.append(spectral_rolloff)\n",
    "\n",
    "    other_features = np.hstack([spectral_bandwidth_feat, spectral_centroid_feat, zerocrossing_rate_feat, spectral_rolloff_feat])\n",
    "    mfcc_feat = np.asarray(mfcc_feat)\n",
    "    spectral_contrast_feat = np.asarray(spectral_contrast_feat)\n",
    "    \n",
    "    return mfcc_feat, spectral_contrast_feat, other_features"
   ]
  },
  {
   "cell_type": "code",
   "execution_count": 75,
   "metadata": {},
   "outputs": [
    {
     "name": "stderr",
     "output_type": "stream",
     "text": [
      "/home/smitty/miniconda3/envs/audioproc/lib/python3.8/site-packages/librosa/feature/spectral.py:2143: UserWarning: Empty filters detected in mel frequency basis. Some channels will produce empty responses. Try increasing your sampling rate (and fmax) or reducing n_mels.\n",
      "  mel_basis = filters.mel(sr=sr, n_fft=n_fft, **kwargs)\n"
     ]
    }
   ],
   "source": [
    "tram_mfcc, tram_spectral_contrast, tram_other_features = extractIndividualFeatures(tram_dataset_array)\n",
    "# mfcc_feat, spectral_bandwidth_feat, spectral_centroid_feat, spectral_contrast_feat, zerocrossing_rate_feat, spectral_rolloff_feat = extractIndividualFeatures(tram_dataset_array)"
   ]
  },
  {
   "cell_type": "code",
   "execution_count": 69,
   "metadata": {},
   "outputs": [],
   "source": [
    "# avg_tram_mfcc = np.mean(tram_mfcc, axis=1)"
   ]
  },
  {
   "cell_type": "code",
   "execution_count": 78,
   "metadata": {},
   "outputs": [
    {
     "data": {
      "image/png": "[encoded data removed]",
      "text/plain": [
       "<Figure size 1000x400 with 2 Axes>"
      ]
     },
     "metadata": {},
     "output_type": "display_data"
    }
   ],
   "source": [
    "## MFCC and Spectral contrast data is in shape (x,y,z), \n",
    "## where x = number of audio files, and (y,z) is the shape of MFCC and spectral contrast for each audio\n",
    "\n",
    "plt.figure(figsize=(10, 4))\n",
    "librosa.display.specshow(tram_mfcc[25],cmap='Spectral', x_axis='time',sr=fs, hop_length=128)\n",
    "plt.colorbar()\n",
    "plt.title('MFCC')\n",
    "plt.tight_layout()\n",
    "plt.show()"
   ]
  }
 ],
 "metadata": {
  "kernelspec": {
   "display_name": "Python 3",
   "language": "python",
   "name": "python3"
  },
  "language_info": {
   "codemirror_mode": {
    "name": "ipython",
    "version": 3
   },
   "file_extension": ".py",
   "mimetype": "text/x-python",
   "name": "python",
   "nbconvert_exporter": "python",
   "pygments_lexer": "ipython3",
   "version": "3.10.11"
  }
 },
 "nbformat": 4,
 "nbformat_minor": 5
}
